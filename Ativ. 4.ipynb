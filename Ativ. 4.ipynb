{
  "nbformat": 4,
  "nbformat_minor": 0,
  "metadata": {
    "colab": {
      "provenance": []
    },
    "kernelspec": {
      "name": "python3",
      "display_name": "Python 3"
    },
    "language_info": {
      "name": "python"
    }
  },
  "cells": [
    {
      "cell_type": "code",
      "execution_count": null,
      "metadata": {
        "id": "xL3MqAiectK2"
      },
      "outputs": [],
      "source": [
        "contador = 0\n",
        "while contador < 10:\n",
        "    contador += 1contador = 0\n",
        "while contador < 20:\n",
        "    contador += 2\n",
        "    print(contador)\n",
        "    print(contador)"
      ]
    }
  ]
}