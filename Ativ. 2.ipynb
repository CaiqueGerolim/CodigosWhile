{
  "nbformat": 4,
  "nbformat_minor": 0,
  "metadata": {
    "colab": {
      "provenance": []
    },
    "kernelspec": {
      "name": "python3",
      "display_name": "Python 3"
    },
    "language_info": {
      "name": "python"
    }
  },
  "cells": [
    {
      "cell_type": "code",
      "execution_count": null,
      "metadata": {
        "id": "xL3MqAiectK2"
      },
      "outputs": [],
      "source": [
        "user = input(\"Escolha um nome de usuário: \")\n",
        "senha = int(input(\"Escolha uma senha: \"))\n",
        "print(\"Bem-Vindo de volta\")\n",
        "user1 = input(\"Coloque seu nome de usuário: \")\n",
        "senha1 = str and int(input(\"Coloque sua senha, por favor:\"))\n",
        "while user1 != user and senha1 != senha:\n",
        "    user1 = int(input(\"Senha ou nome de usuario incorreto \"))\n",
        "senha1 = str and int((\"Senha ou nome de usuario incorreto \"))"
      ]
    }
  ]
}