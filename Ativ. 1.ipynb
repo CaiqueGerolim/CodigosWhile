{
  "nbformat": 4,
  "nbformat_minor": 0,
  "metadata": {
    "colab": {
      "provenance": []
    },
    "kernelspec": {
      "name": "python3",
      "display_name": "Python 3"
    },
    "language_info": {
      "name": "python"
    }
  },
  "cells": [
    {
      "cell_type": "code",
      "execution_count": null,
      "metadata": {
        "id": "xL3MqAiectK2"
      },
      "outputs": [],
      "source": [
        "n = float(input(\"Escolha uma nota entre 0 e 10: \"))\n",
        "while n > 10 or n < 0:\n",
        "    n = float(input(\"Coloque um valor válido... \"))"
      ]
    }
  ]
}