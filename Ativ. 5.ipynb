{
  "nbformat": 4,
  "nbformat_minor": 0,
  "metadata": {
    "colab": {
      "provenance": []
    },
    "kernelspec": {
      "name": "python3",
      "display_name": "Python 3"
    },
    "language_info": {
      "name": "python"
    }
  },
  "cells": [
    {
      "cell_type": "code",
      "execution_count": null,
      "metadata": {
        "id": "xL3MqAiectK2"
      },
      "outputs": [],
      "source": [
        "x = int(input(\"Digite um numero inteiro: \"))\n",
        "contador = 0\n",
        "while contador < x:\n",
        "    contador += 1\n",
        "    print(contador)"
      ]
    }
  ]
}